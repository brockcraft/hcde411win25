{
  "cells": [
    {
      "cell_type": "markdown",
      "id": "241ec854-5022-4cd6-903a-7e20a899ed61",
      "metadata": {
        "id": "241ec854-5022-4cd6-903a-7e20a899ed61"
      },
      "source": [
        "# Lab 1: Introduction to Altair\n",
        "This notebook contains a set of exercises designed to correspond with the _Introduction to Altair_ Jupyter notebook lesson from class."
      ]
    },
    {
      "cell_type": "code",
      "execution_count": null,
      "id": "b84e7008-053a-48d3-8ef1-9622987d29b2",
      "metadata": {
        "id": "b84e7008-053a-48d3-8ef1-9622987d29b2"
      },
      "outputs": [],
      "source": [
        "import pandas as pd\n",
        "import altair as alt"
      ]
    },
    {
      "cell_type": "markdown",
      "id": "c03f4de3-0e65-406a-9ea1-cf82a7a782c0",
      "metadata": {
        "id": "c03f4de3-0e65-406a-9ea1-cf82a7a782c0"
      },
      "source": [
        "## Exercise 1: Reading in the data\n",
        "In the cell below, write code which does the following:\n",
        "- Imports the data module from the `vega_datasets` package\n",
        "- Reads in the `seattle_weather` data set and names it `weather`\n",
        "- Displays the first five rows of the data using the `head` function"
      ]
    },
    {
      "cell_type": "code",
      "execution_count": null,
      "id": "91d43b56-23e1-42af-9741-40c5d32f56c5",
      "metadata": {
        "id": "91d43b56-23e1-42af-9741-40c5d32f56c5"
      },
      "outputs": [],
      "source": [
        "# The first step is done for you\n",
        "from vega_datasets import data\n",
        "# TO-DO: Read in seattle_weather data\n",
        "# TO-DO: Display first 5 rows of the data"
      ]
    },
    {
      "cell_type": "markdown",
      "id": "c2c8248e-057a-441a-b8f3-6a4294543719",
      "metadata": {
        "id": "c2c8248e-057a-441a-b8f3-6a4294543719"
      },
      "source": [
        "## Exercise 2: A basic scatter plot\n",
        "Use a **point** mark, along with x and y position encodings, to build a scatter plot from the data above with `'temp_min'` on the x-axis and `'temp_max'` on the y-axis. Use long-form encoding. For example, instead of `x='temp_min'`, write `alt.X('temp_min')`."
      ]
    },
    {
      "cell_type": "code",
      "execution_count": null,
      "id": "09744253-cf0b-485d-bca9-64369f946905",
      "metadata": {
        "id": "09744253-cf0b-485d-bca9-64369f946905"
      },
      "outputs": [],
      "source": [
        "# Fill in the skeleton below to generate the desired scatter plot\n",
        "alt.Chart().mark_().encode( # TO-DO: Fill in the data and the mark type\n",
        "    alt.X(), # TO-DO: Fill in x encoding\n",
        "    alt.Y()  # TO-DO: Fill in y encoding\n",
        ")"
      ]
    },
    {
      "cell_type": "markdown",
      "id": "fc5802bf-b670-4e67-b394-1165ac6587b2",
      "metadata": {
        "id": "fc5802bf-b670-4e67-b394-1165ac6587b2"
      },
      "source": [
        "## Exercise 3: A line chart\n",
        "This time, you will generate a line chart according to the following specifications, without being given any starter code (however, the code from the previous question is a good model to follow):\n",
        "- The `'date'` should be encoded with x position.\n",
        "- The `'precipitation'` should be encoded with y position."
      ]
    },
    {
      "cell_type": "code",
      "execution_count": null,
      "id": "c8779109-59d0-4f4f-b4ec-9092d3db550c",
      "metadata": {
        "id": "c8779109-59d0-4f4f-b4ec-9092d3db550c"
      },
      "outputs": [],
      "source": [
        "# TO-DO: Generate the line chart above in Altair"
      ]
    },
    {
      "cell_type": "markdown",
      "id": "890c7cbc-5fae-429e-897a-4aaae7d9a096",
      "metadata": {
        "id": "890c7cbc-5fae-429e-897a-4aaae7d9a096"
      },
      "source": [
        "## Exercise 4: A line chart (continued)\n",
        "If you generated the above chart correctly, you'll notice that our line chart ends up looking like a bar chart with very thin bars. In the Markdown cell below, answer the following two questions:\n",
        "- Why is this happening?\n",
        "- What are some ways to fix this? **Hint**: The potential answers have nothing to do with code. This question is asking you to think about the underlying data/potential visual representations of it."
      ]
    },
    {
      "cell_type": "markdown",
      "id": "919d5990-3d63-49df-a1bf-cf21dae1b6ce",
      "metadata": {
        "id": "919d5990-3d63-49df-a1bf-cf21dae1b6ce"
      },
      "source": [
        "_Replace this text with your answer._"
      ]
    },
    {
      "cell_type": "markdown",
      "id": "5f76eca1-2a5d-4e14-85dd-9c2f9a6f6a00",
      "metadata": {
        "id": "5f76eca1-2a5d-4e14-85dd-9c2f9a6f6a00"
      },
      "source": [
        "## Exercise 5: An aggregate bar chart\n",
        "Generate a bar chart which encodes the type of weather (the last column in our data) on the x-axis and the _**average**_ precipitation for each type of weather on the y-axis. If you are unsure how to do this, see the section titled, \"Data Transformation: Aggregation,\" from the class example notebook."
      ]
    },
    {
      "cell_type": "code",
      "execution_count": null,
      "id": "ac1e5884-4c48-422b-8d00-6c840730be95",
      "metadata": {
        "id": "ac1e5884-4c48-422b-8d00-6c840730be95"
      },
      "outputs": [],
      "source": [
        "# TO-DO: Generate the bar chart above in Altair"
      ]
    }
  ],
  "metadata": {
    "kernelspec": {
      "display_name": "Python 3",
      "language": "python",
      "name": "python3"
    },
    "language_info": {
      "codemirror_mode": {
        "name": "ipython",
        "version": 3
      },
      "file_extension": ".py",
      "mimetype": "text/x-python",
      "name": "python",
      "nbconvert_exporter": "python",
      "pygments_lexer": "ipython3",
      "version": "3.8.8"
    },
    "colab": {
      "provenance": []
    }
  },
  "nbformat": 4,
  "nbformat_minor": 5
}
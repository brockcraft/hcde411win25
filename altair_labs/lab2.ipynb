{
 "cells": [
  {
   "cell_type": "markdown",
   "id": "e906c848-0e95-4c16-860f-a8881752cb9c",
   "metadata": {},
   "source": [
    "# Lab 2: Encodings and Marks in Altair\n",
    "This notebook contains a set of exercises designed to correspond with the _Data Types, Graphical Marks, and Visual Encoding Channels_ notebook lesson from class. For the questions below, use the manually defined data set below."
   ]
  },
  {
   "cell_type": "code",
   "execution_count": null,
   "id": "f2418856-5c5b-4f70-a7f8-81862c2c81dd",
   "metadata": {},
   "outputs": [],
   "source": [
    "import pandas as pd\n",
    "import altair as alt\n",
    "student_data = pd.DataFrame({'GPA': [4.0, 2.0, 0.4, 3.8, 3.0, 2.0, 1.8, 0.9, 3.3, 2.2, 4.0, 3.5, 2.4],\n",
    "                             'SAT Score': [1600, 900, 800, 1600, 1400, 950, 900, 870, 1330, 400, 1550, 1450, 1000],\n",
    "                             'Learning Enjoyment Rating': [5, 3, 2, 2, 4, 1, 3, 3, 4, 5, 3, 4, 1],\n",
    "                             'Year': ['Freshman', 'Sophomore', 'Senior', 'Senior', 'Senior', 'Junior', 'Sophomore', 'Junior', 'Junior', 'Senior', 'Freshman', 'Sophomore', 'Junior'],\n",
    "                             'Satisfaction': [5, 3, 1, 5, 4, 3, 2, 1, 4, 2, 5, 4, 2]\n",
    "                            })\n",
    "\n",
    "student_data"
   ]
  },
  {
   "cell_type": "markdown",
   "id": "e3983643-8fde-43ae-8aed-994fbfc1fed1",
   "metadata": {},
   "source": [
    "question 1: just a bunch of encodings all together\n",
    "\n",
    "question 2: maybe the color example from my online altair course\n",
    "\n",
    "question 3: have them try out the same graph(s) in a few different marks.\n",
    "\n",
    "question 4: some short response or something about marks perhaps."
   ]
  },
  {
   "cell_type": "markdown",
   "id": "eb21be0f-5943-46e2-8ae9-8b140f536481",
   "metadata": {},
   "source": [
    "## Exercise 1: All these encodings\n",
    "Construct a scatter plot in Altair using the above data which meets the following specifications:\n",
    "- GPA and SAT Score are shows on the x- and y-axis, respectively\n",
    "- The size of each mark is determined by a student's Learning Enjoyment Rating\n",
    "- The year is encoded as both shape and color\n",
    "- The satisfaction level is represented using opacity\n",
    "- There is a tooltip which shows a student's exact GPA\n",
    "\n",
    "Please note that the output of this problem is by no means an example of a good visualization. It is simply meant to get you comfortable with the different types of encodings in Altair.\n",
    "\n",
    "**Hint**: The point mark in Altair will be needed to make this work successfully."
   ]
  },
  {
   "cell_type": "code",
   "execution_count": null,
   "id": "46a9917a-ff62-419d-8c27-20f3149f1e50",
   "metadata": {},
   "outputs": [],
   "source": [
    "# YOUR CODE HERE"
   ]
  },
  {
   "cell_type": "markdown",
   "id": "61391775-c408-4ccb-a8c4-afcf89065cd9",
   "metadata": {},
   "source": [
    "## Exercise 2: A couple more marks\n",
    "Construct two charts in the two cells below:\n",
    "1. A scatter plot with **filled points** that shows GPA on the x-axis and SAT Score on the y-axis\n",
    "2. A scatter plot that plots the same thing as Part 1, but uses vertical tick marks instead"
   ]
  },
  {
   "cell_type": "code",
   "execution_count": null,
   "id": "87ba131f-b91e-4ac4-ae6c-67f63d431bb2",
   "metadata": {},
   "outputs": [],
   "source": [
    "# YOUR CODE HERE"
   ]
  },
  {
   "cell_type": "code",
   "execution_count": null,
   "id": "053a8dec-bc67-4054-9733-197b9276aa14",
   "metadata": {},
   "outputs": [],
   "source": [
    "# YOUR CODE HERE"
   ]
  },
  {
   "cell_type": "markdown",
   "id": "4909fa50-eef8-4b8d-87d2-82929bc091a0",
   "metadata": {},
   "source": [
    "## Exercise 3: Playing with color scales\n",
    "Below, we have defined a slightly altered version of the data from above for the purposes of this question only. Your task is as follows: Define a scatter plot with GPA on the x-axis and SAT Score on the y-axis, as we have done above. However, this time, we want also want to encode the Learning Enjoyment Rating using color, according to the following specifications:\n",
    "- The Learning Enjoyment Rating should be specified as an ordinal variable\n",
    "- The color should be set using a **grey** color scheme from [Vega's color schemes](https://vega.github.io/vega/docs/schemes/) that corresponds correctly to the order of the rankings for learning enjoyment\n",
    "\n",
    "**Hint 1**: Everything you need to solve this problem can be found in the first and second Altair lesson notebooks from class (though you may need to do some searching) combined with the second hint below.\n",
    "**Hint 2**: Altair allows an optional `domain` option for `alt.Scale` which lets you specify a list of items in a specific order (a Python list is enclosed in square brackets with individual elements separated by commas: `['apple', 'orange', 'banana']`."
   ]
  },
  {
   "cell_type": "code",
   "execution_count": null,
   "id": "50a8f1c4-e6bf-45a3-9693-18eaadab0ed4",
   "metadata": {},
   "outputs": [],
   "source": [
    "# YOUR CODE HERE"
   ]
  }
 ],
 "metadata": {
  "kernelspec": {
   "display_name": "Python 3",
   "language": "python",
   "name": "python3"
  },
  "language_info": {
   "codemirror_mode": {
    "name": "ipython",
    "version": 3
   },
   "file_extension": ".py",
   "mimetype": "text/x-python",
   "name": "python",
   "nbconvert_exporter": "python",
   "pygments_lexer": "ipython3",
   "version": "3.8.8"
  }
 },
 "nbformat": 4,
 "nbformat_minor": 5
}

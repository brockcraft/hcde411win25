{
 "cells": [
  {
   "cell_type": "markdown",
   "id": "2e7e4eae-45be-42e2-b7dd-6ad72ddb6faa",
   "metadata": {},
   "source": [
    "# Lab 3: Data Transformations in Altair\n",
    "This notebook contains a set of exercises designed to correspond with the _Data Transformation_ notebook lesson from class."
   ]
  },
  {
   "cell_type": "code",
   "execution_count": 1,
   "id": "5fc14d22-1143-4253-8451-b0123f5f57c0",
   "metadata": {},
   "outputs": [],
   "source": [
    "import pandas as pd\n",
    "import altair as alt"
   ]
  },
  {
   "cell_type": "markdown",
   "id": "c1ee1af2-8d8f-478b-a5d9-ed7ef67a765a",
   "metadata": {},
   "source": [
    "## Exercise 1: Heatmaps Galore\n",
    "The code below is taken directly from an example from the in-class notebook. Play around with the bin parameters. Try to make lots of small squares, only a few big squares, and rectangular blocks (this can be achieved by making the number of bins unequal for the respective axes). **Try at least 4 different variations for the bin parameters, making a new code cell for each one and generating the visualization**. "
   ]
  },
  {
   "cell_type": "code",
   "execution_count": 2,
   "id": "d438550c-df2a-46be-94f3-62b455b8d372",
   "metadata": {},
   "outputs": [
    {
     "data": {
      "text/html": [
       "\n",
       "<div id=\"altair-viz-f0316cb0c29d4adebee4f7237e28eca4\"></div>\n",
       "<script type=\"text/javascript\">\n",
       "  (function(spec, embedOpt){\n",
       "    let outputDiv = document.currentScript.previousElementSibling;\n",
       "    if (outputDiv.id !== \"altair-viz-f0316cb0c29d4adebee4f7237e28eca4\") {\n",
       "      outputDiv = document.getElementById(\"altair-viz-f0316cb0c29d4adebee4f7237e28eca4\");\n",
       "    }\n",
       "    const paths = {\n",
       "      \"vega\": \"https://cdn.jsdelivr.net/npm//vega@5?noext\",\n",
       "      \"vega-lib\": \"https://cdn.jsdelivr.net/npm//vega-lib?noext\",\n",
       "      \"vega-lite\": \"https://cdn.jsdelivr.net/npm//vega-lite@4.8.1?noext\",\n",
       "      \"vega-embed\": \"https://cdn.jsdelivr.net/npm//vega-embed@6?noext\",\n",
       "    };\n",
       "\n",
       "    function loadScript(lib) {\n",
       "      return new Promise(function(resolve, reject) {\n",
       "        var s = document.createElement('script');\n",
       "        s.src = paths[lib];\n",
       "        s.async = true;\n",
       "        s.onload = () => resolve(paths[lib]);\n",
       "        s.onerror = () => reject(`Error loading script: ${paths[lib]}`);\n",
       "        document.getElementsByTagName(\"head\")[0].appendChild(s);\n",
       "      });\n",
       "    }\n",
       "\n",
       "    function showError(err) {\n",
       "      outputDiv.innerHTML = `<div class=\"error\" style=\"color:red;\">${err}</div>`;\n",
       "      throw err;\n",
       "    }\n",
       "\n",
       "    function displayChart(vegaEmbed) {\n",
       "      vegaEmbed(outputDiv, spec, embedOpt)\n",
       "        .catch(err => showError(`Javascript Error: ${err.message}<br>This usually means there's a typo in your chart specification. See the javascript console for the full traceback.`));\n",
       "    }\n",
       "\n",
       "    if(typeof define === \"function\" && define.amd) {\n",
       "      requirejs.config({paths});\n",
       "      require([\"vega-embed\"], displayChart, err => showError(`Error loading script: ${err.message}`));\n",
       "    } else if (typeof vegaEmbed === \"function\") {\n",
       "      displayChart(vegaEmbed);\n",
       "    } else {\n",
       "      loadScript(\"vega\")\n",
       "        .then(() => loadScript(\"vega-lite\"))\n",
       "        .then(() => loadScript(\"vega-embed\"))\n",
       "        .catch(showError)\n",
       "        .then(() => displayChart(vegaEmbed));\n",
       "    }\n",
       "  })({\"config\": {\"view\": {\"continuousWidth\": 400, \"continuousHeight\": 300}}, \"data\": {\"url\": \"https://cdn.jsdelivr.net/npm/vega-datasets@1/data/movies.json\"}, \"mark\": \"bar\", \"encoding\": {\"color\": {\"type\": \"quantitative\", \"aggregate\": \"count\"}, \"x\": {\"type\": \"quantitative\", \"bin\": {\"maxbins\": 30}, \"field\": \"Rotten_Tomatoes_Rating\"}, \"y\": {\"type\": \"quantitative\", \"bin\": {\"maxbins\": 30}, \"field\": \"IMDB_Rating\"}}, \"$schema\": \"https://vega.github.io/schema/vega-lite/v4.8.1.json\"}, {\"mode\": \"vega-lite\"});\n",
       "</script>"
      ],
      "text/plain": [
       "alt.Chart(...)"
      ]
     },
     "execution_count": 2,
     "metadata": {},
     "output_type": "execute_result"
    }
   ],
   "source": [
    "movies_url = 'https://cdn.jsdelivr.net/npm/vega-datasets@1/data/movies.json'\n",
    "movies = pd.read_json(movies_url)\n",
    "\n",
    "alt.Chart(movies_url).mark_bar().encode(\n",
    "    alt.X('Rotten_Tomatoes_Rating:Q', bin=alt.BinParams(maxbins=30)),\n",
    "    alt.Y('IMDB_Rating:Q', bin=alt.BinParams(maxbins=30)),\n",
    "    alt.Color('count()')\n",
    ")"
   ]
  },
  {
   "cell_type": "code",
   "execution_count": null,
   "id": "d53f7c8d-6aa1-4ed5-86a4-4188f51dabe0",
   "metadata": {},
   "outputs": [],
   "source": [
    "# YOUR CODE HERE"
   ]
  },
  {
   "cell_type": "code",
   "execution_count": null,
   "id": "f8b7fe3c-6e74-45fb-8164-20fe6612764b",
   "metadata": {},
   "outputs": [],
   "source": [
    "# YOUR CODE HERE"
   ]
  },
  {
   "cell_type": "code",
   "execution_count": null,
   "id": "ee703726-56b0-49c8-b081-0b6c591d094d",
   "metadata": {},
   "outputs": [],
   "source": [
    "# YOUR CODE HERE"
   ]
  },
  {
   "cell_type": "code",
   "execution_count": null,
   "id": "ba208a3d-e575-40f2-81c3-ce9a2d040bcd",
   "metadata": {},
   "outputs": [],
   "source": [
    "# YOUR CODE HERE"
   ]
  },
  {
   "cell_type": "markdown",
   "id": "d5f5642e-a73e-40ec-b8ff-770aaf4dc721",
   "metadata": {},
   "source": [
    "## Exercise 2: Pondering Heatmaps Galore\n",
    "Regarding the above exercise, which visualization do you think maximizes what we can learn from the data? Why?"
   ]
  },
  {
   "cell_type": "markdown",
   "id": "d473a337-71f9-4d5a-b3d8-c29d6a114f1b",
   "metadata": {},
   "source": [
    "_Replace this text with your answer._"
   ]
  },
  {
   "cell_type": "markdown",
   "id": "5f3b62d7-fc18-499c-9649-ff7fa05a12fa",
   "metadata": {},
   "source": [
    "## Exercise 3: Lots of Transformations\n",
    "Make a new code cell at the bottom of the notebook and import the `co2_concentration` data set from `vega_datasets`. Convert the `Date` column to a `datetime` object with the following two lines of code: `from datetime import datetime` and `df_name['Date']=pd.to_datetime(df_name['Date'])`. Generate a scatter plot in Altair (use the point mark, not the circle mark) which plots the year on the x-axis and the average CO2 for that year on the y-axis, only for the years after 1995. Hint: You will want to use `transform_calculate` to extract a `Year` field, `transform_filter` to only include the years after 1995, and `transform_aggregate` to get the average CO2. Also, in the final encoding, encode `Year` as an ordinal value to get a reasonable x-axis, otherwise the datetimes will plot very weirdly.\n",
    "\n",
    "Yes, this is the same question as the one from the in-class activity. Yes, we want you to do it again."
   ]
  },
  {
   "cell_type": "code",
   "execution_count": 3,
   "id": "9b3a61e9-e187-4209-9e88-1e823618a51a",
   "metadata": {},
   "outputs": [],
   "source": [
    "# YOUR CODE HERE"
   ]
  },
  {
   "cell_type": "markdown",
   "id": "77c171da-e3d0-41de-95c2-b18d7a6297fb",
   "metadata": {},
   "source": [
    "## Exercise 4: Survey on Lots of Transformations\n",
    "Was it helpful to your learning to complete the above problem again, this time individually? Please be honest, as it helps us improve the class. An explanation for your answer is encouraged, but not required for lab credit."
   ]
  },
  {
   "cell_type": "markdown",
   "id": "e8ad6372-7043-4bcf-9b6c-29fd8f46ab98",
   "metadata": {},
   "source": [
    "_Replace this text with your answer._"
   ]
  },
  {
   "cell_type": "markdown",
   "id": "97c83e7c-8b1a-4886-8ddf-6fd215843ebd",
   "metadata": {},
   "source": [
    "## Exercise 5: Exploration\n",
    "Import a data set of your choosing from vega_datasets (or upload one) **other than the movies and CO2 ones used above**. Make a visualization of your choice in Altair that uses _at least_ one of the transformations we learned about in class (or one of the ones we did not learn). This doesn't need to be extravagant, but you do need to make a solid attempt for full credit on the lab."
   ]
  },
  {
   "cell_type": "code",
   "execution_count": null,
   "id": "7c5d0faf-b6f7-4c01-aef7-af81322c7ad3",
   "metadata": {},
   "outputs": [],
   "source": [
    "# YOUR CODE HERE"
   ]
  }
 ],
 "metadata": {
  "kernelspec": {
   "display_name": "Python 3",
   "language": "python",
   "name": "python3"
  },
  "language_info": {
   "codemirror_mode": {
    "name": "ipython",
    "version": 3
   },
   "file_extension": ".py",
   "mimetype": "text/x-python",
   "name": "python",
   "nbconvert_exporter": "python",
   "pygments_lexer": "ipython3",
   "version": "3.8.8"
  }
 },
 "nbformat": 4,
 "nbformat_minor": 5
}
